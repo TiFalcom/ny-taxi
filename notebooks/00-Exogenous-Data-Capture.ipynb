{
 "cells": [
  {
   "cell_type": "code",
   "execution_count": 1,
   "metadata": {},
   "outputs": [],
   "source": [
    "import pandas as pd\n",
    "from tqdm import tqdm\n",
    "import numpy as np"
   ]
  },
  {
   "cell_type": "markdown",
   "metadata": {},
   "source": [
    "# Weather"
   ]
  },
  {
   "cell_type": "code",
   "execution_count": 2,
   "metadata": {},
   "outputs": [],
   "source": [
    "# Data from NYC - Central Park https://www.weather.gov/wrh/Climate?wfo=okx\n",
    "df_weather = pd.read_csv('../data/external/weather_data.csv', delimiter=';')"
   ]
  },
  {
   "cell_type": "code",
   "execution_count": 3,
   "metadata": {},
   "outputs": [
    {
     "data": {
      "text/plain": [
       "Type\n",
       "Avg Temperature Normal                 372\n",
       "Daily Precipitation Normal (inches)    372\n",
       "Max Temperature Normal                 372\n",
       "Min Temperature Normal                 372\n",
       "Name: count, dtype: int64"
      ]
     },
     "execution_count": 3,
     "metadata": {},
     "output_type": "execute_result"
    }
   ],
   "source": [
    "df_weather = df_weather.sort_values(by=['Type', 'Month', 'Day'], ascending=[True, True, True])\n",
    "df_weather.Type.value_counts()"
   ]
  },
  {
   "cell_type": "code",
   "execution_count": 4,
   "metadata": {},
   "outputs": [],
   "source": [
    "# This works because dataframe is ordered\n",
    "df_weather_unify = df_weather[df_weather['Type'] == 'Daily Precipitation Normal (inches)'][['Day', 'Month', 'Value']].rename(columns={'Value' : 'daily_preciptation_normal_inches'}).reset_index(drop=True)\n",
    "        \n",
    "df_weather_unify['max_temperature_normal_f'] = df_weather[df_weather['Type'] == 'Max Temperature Normal']['Value'].values\n",
    "\n",
    "df_weather_unify['min_temperature_normal_f'] = df_weather[df_weather['Type'] == 'Min Temperature Normal']['Value'].values\n",
    "\n",
    "df_weather_unify['avg_temperature_normal_f'] = df_weather[df_weather['Type'] == 'Avg Temperature Normal']['Value'].values\n",
    "\n",
    "df_weather_unify['Year'] = 2016"
   ]
  },
  {
   "cell_type": "code",
   "execution_count": 5,
   "metadata": {},
   "outputs": [],
   "source": [
    "df_weather_unify = df_weather_unify.replace('-', '0')"
   ]
  },
  {
   "cell_type": "code",
   "execution_count": 11,
   "metadata": {},
   "outputs": [],
   "source": [
    "df_weather_unify.to_csv('../data/external/weather_unify.csv')"
   ]
  },
  {
   "cell_type": "markdown",
   "metadata": {},
   "source": [
    "# Streets Address"
   ]
  },
  {
   "cell_type": "code",
   "execution_count": 2,
   "metadata": {},
   "outputs": [],
   "source": [
    "df = pd.read_csv('../data/external/Centerline.csv', dtype=str)"
   ]
  },
  {
   "cell_type": "code",
   "execution_count": 3,
   "metadata": {},
   "outputs": [],
   "source": [
    "df['list_coords'] = df['the_geom'].str.replace('MULTILINESTRING ((', '').str.replace('))', '').str.split(',')"
   ]
  },
  {
   "cell_type": "code",
   "execution_count": 4,
   "metadata": {},
   "outputs": [],
   "source": [
    "def extract_coords(X):\n",
    "    np_arr_lst_coords = X['list_coords'].to_numpy(dtype=object)\n",
    "\n",
    "    lst_lat_long = []\n",
    "    for index, coords in enumerate(tqdm(np_arr_lst_coords)):\n",
    "        lst_lat_long += list(zip(coords, [index]*len(coords)))\n",
    "\n",
    "    return lst_lat_long"
   ]
  },
  {
   "cell_type": "code",
   "execution_count": 5,
   "metadata": {},
   "outputs": [
    {
     "name": "stderr",
     "output_type": "stream",
     "text": [
      "  0%|          | 0/121932 [00:00<?, ?it/s]"
     ]
    },
    {
     "name": "stderr",
     "output_type": "stream",
     "text": [
      "100%|██████████| 121932/121932 [00:00<00:00, 357126.56it/s]\n"
     ]
    }
   ],
   "source": [
    "lst_ = extract_coords(df)"
   ]
  },
  {
   "cell_type": "code",
   "execution_count": 6,
   "metadata": {},
   "outputs": [],
   "source": [
    "df_coords = pd.DataFrame(lst_, columns=['lat_long', 'index'])"
   ]
  },
  {
   "cell_type": "code",
   "execution_count": 7,
   "metadata": {},
   "outputs": [],
   "source": [
    "df_coords[['latitude', 'longitude']] = pd.DataFrame([[lat, long] for lat, long in df_coords['lat_long'].str.strip().str.split(' ')]).astype(np.float64)"
   ]
  },
  {
   "cell_type": "code",
   "execution_count": 8,
   "metadata": {},
   "outputs": [
    {
     "data": {
      "text/html": [
       "<div>\n",
       "<style scoped>\n",
       "    .dataframe tbody tr th:only-of-type {\n",
       "        vertical-align: middle;\n",
       "    }\n",
       "\n",
       "    .dataframe tbody tr th {\n",
       "        vertical-align: top;\n",
       "    }\n",
       "\n",
       "    .dataframe thead th {\n",
       "        text-align: right;\n",
       "    }\n",
       "</style>\n",
       "<table border=\"1\" class=\"dataframe\">\n",
       "  <thead>\n",
       "    <tr style=\"text-align: right;\">\n",
       "      <th></th>\n",
       "      <th>lat_long</th>\n",
       "      <th>index</th>\n",
       "      <th>latitude</th>\n",
       "      <th>longitude</th>\n",
       "    </tr>\n",
       "  </thead>\n",
       "  <tbody>\n",
       "    <tr>\n",
       "      <th>0</th>\n",
       "      <td>-74.01793061274537 40.70617486563979</td>\n",
       "      <td>0</td>\n",
       "      <td>-74.017931</td>\n",
       "      <td>40.706175</td>\n",
       "    </tr>\n",
       "    <tr>\n",
       "      <th>1</th>\n",
       "      <td>-74.01786933958108 40.70634871855227</td>\n",
       "      <td>0</td>\n",
       "      <td>-74.017869</td>\n",
       "      <td>40.706349</td>\n",
       "    </tr>\n",
       "    <tr>\n",
       "      <th>2</th>\n",
       "      <td>-74.01778897787625 40.70651868456784</td>\n",
       "      <td>0</td>\n",
       "      <td>-74.017789</td>\n",
       "      <td>40.706519</td>\n",
       "    </tr>\n",
       "    <tr>\n",
       "      <th>3</th>\n",
       "      <td>-74.01769028387064 40.70668296244674</td>\n",
       "      <td>0</td>\n",
       "      <td>-74.017690</td>\n",
       "      <td>40.706683</td>\n",
       "    </tr>\n",
       "    <tr>\n",
       "      <th>4</th>\n",
       "      <td>-74.01757437049282 40.70683986715218</td>\n",
       "      <td>0</td>\n",
       "      <td>-74.017574</td>\n",
       "      <td>40.706840</td>\n",
       "    </tr>\n",
       "  </tbody>\n",
       "</table>\n",
       "</div>"
      ],
      "text/plain": [
       "                                lat_long  index   latitude  longitude\n",
       "0   -74.01793061274537 40.70617486563979      0 -74.017931  40.706175\n",
       "1   -74.01786933958108 40.70634871855227      0 -74.017869  40.706349\n",
       "2   -74.01778897787625 40.70651868456784      0 -74.017789  40.706519\n",
       "3   -74.01769028387064 40.70668296244674      0 -74.017690  40.706683\n",
       "4   -74.01757437049282 40.70683986715218      0 -74.017574  40.706840"
      ]
     },
     "execution_count": 8,
     "metadata": {},
     "output_type": "execute_result"
    }
   ],
   "source": [
    "df_coords.head()"
   ]
  },
  {
   "cell_type": "code",
   "execution_count": 9,
   "metadata": {},
   "outputs": [],
   "source": [
    "df = df_coords.merge(df.reset_index(),on='index' , how='right').drop(columns=['list_coords', 'index', 'the_geom'])"
   ]
  },
  {
   "cell_type": "code",
   "execution_count": 10,
   "metadata": {},
   "outputs": [
    {
     "data": {
      "text/html": [
       "<div>\n",
       "<style scoped>\n",
       "    .dataframe tbody tr th:only-of-type {\n",
       "        vertical-align: middle;\n",
       "    }\n",
       "\n",
       "    .dataframe tbody tr th {\n",
       "        vertical-align: top;\n",
       "    }\n",
       "\n",
       "    .dataframe thead th {\n",
       "        text-align: right;\n",
       "    }\n",
       "</style>\n",
       "<table border=\"1\" class=\"dataframe\">\n",
       "  <thead>\n",
       "    <tr style=\"text-align: right;\">\n",
       "      <th></th>\n",
       "      <th>lat_long</th>\n",
       "      <th>latitude</th>\n",
       "      <th>longitude</th>\n",
       "      <th>PHYSICALID</th>\n",
       "      <th>L_LOW_HN</th>\n",
       "      <th>L_HIGH_HN</th>\n",
       "      <th>R_LOW_HN</th>\n",
       "      <th>R_HIGH_HN</th>\n",
       "      <th>L_ZIP</th>\n",
       "      <th>R_ZIP</th>\n",
       "      <th>...</th>\n",
       "      <th>PRE_DIRECT</th>\n",
       "      <th>PRE_TYPE</th>\n",
       "      <th>POST_TYPE</th>\n",
       "      <th>POST_DIREC</th>\n",
       "      <th>POST_MODIF</th>\n",
       "      <th>FULL_STREE</th>\n",
       "      <th>ST_NAME</th>\n",
       "      <th>BIKE_TRAFD</th>\n",
       "      <th>SEGMENT_TY</th>\n",
       "      <th>SHAPE_Leng</th>\n",
       "    </tr>\n",
       "  </thead>\n",
       "  <tbody>\n",
       "    <tr>\n",
       "      <th>0</th>\n",
       "      <td>-74.01793061274537 40.70617486563979</td>\n",
       "      <td>-74.017931</td>\n",
       "      <td>40.706175</td>\n",
       "      <td>3</td>\n",
       "      <td>50</td>\n",
       "      <td>64</td>\n",
       "      <td>51</td>\n",
       "      <td>63</td>\n",
       "      <td>10280</td>\n",
       "      <td>10280</td>\n",
       "      <td>...</td>\n",
       "      <td>NaN</td>\n",
       "      <td>NaN</td>\n",
       "      <td>PL</td>\n",
       "      <td>NaN</td>\n",
       "      <td>NaN</td>\n",
       "      <td>BATTERY PL</td>\n",
       "      <td>BATTERY</td>\n",
       "      <td>NaN</td>\n",
       "      <td>U</td>\n",
       "      <td>262.77781228</td>\n",
       "    </tr>\n",
       "    <tr>\n",
       "      <th>1</th>\n",
       "      <td>-74.01786933958108 40.70634871855227</td>\n",
       "      <td>-74.017869</td>\n",
       "      <td>40.706349</td>\n",
       "      <td>3</td>\n",
       "      <td>50</td>\n",
       "      <td>64</td>\n",
       "      <td>51</td>\n",
       "      <td>63</td>\n",
       "      <td>10280</td>\n",
       "      <td>10280</td>\n",
       "      <td>...</td>\n",
       "      <td>NaN</td>\n",
       "      <td>NaN</td>\n",
       "      <td>PL</td>\n",
       "      <td>NaN</td>\n",
       "      <td>NaN</td>\n",
       "      <td>BATTERY PL</td>\n",
       "      <td>BATTERY</td>\n",
       "      <td>NaN</td>\n",
       "      <td>U</td>\n",
       "      <td>262.77781228</td>\n",
       "    </tr>\n",
       "    <tr>\n",
       "      <th>2</th>\n",
       "      <td>-74.01778897787625 40.70651868456784</td>\n",
       "      <td>-74.017789</td>\n",
       "      <td>40.706519</td>\n",
       "      <td>3</td>\n",
       "      <td>50</td>\n",
       "      <td>64</td>\n",
       "      <td>51</td>\n",
       "      <td>63</td>\n",
       "      <td>10280</td>\n",
       "      <td>10280</td>\n",
       "      <td>...</td>\n",
       "      <td>NaN</td>\n",
       "      <td>NaN</td>\n",
       "      <td>PL</td>\n",
       "      <td>NaN</td>\n",
       "      <td>NaN</td>\n",
       "      <td>BATTERY PL</td>\n",
       "      <td>BATTERY</td>\n",
       "      <td>NaN</td>\n",
       "      <td>U</td>\n",
       "      <td>262.77781228</td>\n",
       "    </tr>\n",
       "    <tr>\n",
       "      <th>3</th>\n",
       "      <td>-74.01769028387064 40.70668296244674</td>\n",
       "      <td>-74.017690</td>\n",
       "      <td>40.706683</td>\n",
       "      <td>3</td>\n",
       "      <td>50</td>\n",
       "      <td>64</td>\n",
       "      <td>51</td>\n",
       "      <td>63</td>\n",
       "      <td>10280</td>\n",
       "      <td>10280</td>\n",
       "      <td>...</td>\n",
       "      <td>NaN</td>\n",
       "      <td>NaN</td>\n",
       "      <td>PL</td>\n",
       "      <td>NaN</td>\n",
       "      <td>NaN</td>\n",
       "      <td>BATTERY PL</td>\n",
       "      <td>BATTERY</td>\n",
       "      <td>NaN</td>\n",
       "      <td>U</td>\n",
       "      <td>262.77781228</td>\n",
       "    </tr>\n",
       "    <tr>\n",
       "      <th>4</th>\n",
       "      <td>-74.01757437049282 40.70683986715218</td>\n",
       "      <td>-74.017574</td>\n",
       "      <td>40.706840</td>\n",
       "      <td>3</td>\n",
       "      <td>50</td>\n",
       "      <td>64</td>\n",
       "      <td>51</td>\n",
       "      <td>63</td>\n",
       "      <td>10280</td>\n",
       "      <td>10280</td>\n",
       "      <td>...</td>\n",
       "      <td>NaN</td>\n",
       "      <td>NaN</td>\n",
       "      <td>PL</td>\n",
       "      <td>NaN</td>\n",
       "      <td>NaN</td>\n",
       "      <td>BATTERY PL</td>\n",
       "      <td>BATTERY</td>\n",
       "      <td>NaN</td>\n",
       "      <td>U</td>\n",
       "      <td>262.77781228</td>\n",
       "    </tr>\n",
       "  </tbody>\n",
       "</table>\n",
       "<p>5 rows × 35 columns</p>\n",
       "</div>"
      ],
      "text/plain": [
       "                                lat_long   latitude  longitude PHYSICALID  \\\n",
       "0   -74.01793061274537 40.70617486563979 -74.017931  40.706175          3   \n",
       "1   -74.01786933958108 40.70634871855227 -74.017869  40.706349          3   \n",
       "2   -74.01778897787625 40.70651868456784 -74.017789  40.706519          3   \n",
       "3   -74.01769028387064 40.70668296244674 -74.017690  40.706683          3   \n",
       "4   -74.01757437049282 40.70683986715218 -74.017574  40.706840          3   \n",
       "\n",
       "  L_LOW_HN L_HIGH_HN R_LOW_HN R_HIGH_HN  L_ZIP  R_ZIP  ... PRE_DIRECT  \\\n",
       "0       50        64       51        63  10280  10280  ...        NaN   \n",
       "1       50        64       51        63  10280  10280  ...        NaN   \n",
       "2       50        64       51        63  10280  10280  ...        NaN   \n",
       "3       50        64       51        63  10280  10280  ...        NaN   \n",
       "4       50        64       51        63  10280  10280  ...        NaN   \n",
       "\n",
       "  PRE_TYPE POST_TYPE POST_DIREC POST_MODIF  FULL_STREE  ST_NAME BIKE_TRAFD  \\\n",
       "0      NaN        PL        NaN        NaN  BATTERY PL  BATTERY        NaN   \n",
       "1      NaN        PL        NaN        NaN  BATTERY PL  BATTERY        NaN   \n",
       "2      NaN        PL        NaN        NaN  BATTERY PL  BATTERY        NaN   \n",
       "3      NaN        PL        NaN        NaN  BATTERY PL  BATTERY        NaN   \n",
       "4      NaN        PL        NaN        NaN  BATTERY PL  BATTERY        NaN   \n",
       "\n",
       "  SEGMENT_TY    SHAPE_Leng  \n",
       "0          U  262.77781228  \n",
       "1          U  262.77781228  \n",
       "2          U  262.77781228  \n",
       "3          U  262.77781228  \n",
       "4          U  262.77781228  \n",
       "\n",
       "[5 rows x 35 columns]"
      ]
     },
     "execution_count": 10,
     "metadata": {},
     "output_type": "execute_result"
    }
   ],
   "source": [
    "df.head()"
   ]
  },
  {
   "cell_type": "code",
   "execution_count": 11,
   "metadata": {},
   "outputs": [],
   "source": [
    "df.to_parquet('../data/external/Centerline_unify.parquet.gzip', compression='gzip', index=False)"
   ]
  },
  {
   "cell_type": "code",
   "execution_count": null,
   "metadata": {},
   "outputs": [],
   "source": []
  }
 ],
 "metadata": {
  "kernelspec": {
   "display_name": "venv_ny_taxi",
   "language": "python",
   "name": "python3"
  },
  "language_info": {
   "codemirror_mode": {
    "name": "ipython",
    "version": 3
   },
   "file_extension": ".py",
   "mimetype": "text/x-python",
   "name": "python",
   "nbconvert_exporter": "python",
   "pygments_lexer": "ipython3",
   "version": "3.12.4"
  }
 },
 "nbformat": 4,
 "nbformat_minor": 2
}
