{
 "cells": [
  {
   "cell_type": "code",
   "execution_count": 1,
   "metadata": {},
   "outputs": [],
   "source": [
    "import pandas as pd"
   ]
  },
  {
   "cell_type": "markdown",
   "metadata": {},
   "source": [
    "# Weather"
   ]
  },
  {
   "cell_type": "code",
   "execution_count": 2,
   "metadata": {},
   "outputs": [],
   "source": [
    "# Data from NYC - Central Park https://www.weather.gov/wrh/Climate?wfo=okx\n",
    "df_weather = pd.read_csv('../data/external/weather_data.csv', delimiter=';')"
   ]
  },
  {
   "cell_type": "code",
   "execution_count": 3,
   "metadata": {},
   "outputs": [
    {
     "data": {
      "text/plain": [
       "Type\n",
       "Avg Temperature Normal                 372\n",
       "Daily Precipitation Normal (inches)    372\n",
       "Max Temperature Normal                 372\n",
       "Min Temperature Normal                 372\n",
       "Name: count, dtype: int64"
      ]
     },
     "execution_count": 3,
     "metadata": {},
     "output_type": "execute_result"
    }
   ],
   "source": [
    "df_weather = df_weather.sort_values(by=['Type', 'Month', 'Day'], ascending=[True, True, True])\n",
    "df_weather.Type.value_counts()"
   ]
  },
  {
   "cell_type": "code",
   "execution_count": 4,
   "metadata": {},
   "outputs": [],
   "source": [
    "# This works because dataframe is ordered\n",
    "df_weather_unify = df_weather[df_weather['Type'] == 'Daily Precipitation Normal (inches)'][['Day', 'Month', 'Value']].rename(columns={'Value' : 'daily_preciptation_normal_inches'}).reset_index(drop=True)\n",
    "        \n",
    "df_weather_unify['max_temperature_normal_f'] = df_weather[df_weather['Type'] == 'Max Temperature Normal']['Value'].values\n",
    "\n",
    "df_weather_unify['min_temperature_normal_f'] = df_weather[df_weather['Type'] == 'Min Temperature Normal']['Value'].values\n",
    "\n",
    "df_weather_unify['avg_temperature_normal_f'] = df_weather[df_weather['Type'] == 'Avg Temperature Normal']['Value'].values\n",
    "\n",
    "df_weather_unify['Year'] = 2016"
   ]
  },
  {
   "cell_type": "code",
   "execution_count": 5,
   "metadata": {},
   "outputs": [],
   "source": [
    "df_weather_unify = df_weather_unify.replace('-', '0')"
   ]
  },
  {
   "cell_type": "code",
   "execution_count": 11,
   "metadata": {},
   "outputs": [],
   "source": [
    "df_weather_unify.to_csv('../data/external/weather_unify.csv')"
   ]
  },
  {
   "cell_type": "code",
   "execution_count": null,
   "metadata": {},
   "outputs": [],
   "source": []
  }
 ],
 "metadata": {
  "kernelspec": {
   "display_name": "venv_ny_taxi",
   "language": "python",
   "name": "python3"
  },
  "language_info": {
   "codemirror_mode": {
    "name": "ipython",
    "version": 3
   },
   "file_extension": ".py",
   "mimetype": "text/x-python",
   "name": "python",
   "nbconvert_exporter": "python",
   "pygments_lexer": "ipython3",
   "version": "3.12.4"
  }
 },
 "nbformat": 4,
 "nbformat_minor": 2
}
