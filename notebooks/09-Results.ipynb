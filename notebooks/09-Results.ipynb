{
 "cells": [
  {
   "cell_type": "markdown",
   "metadata": {},
   "source": [
    "# Results\n",
    "Como não foi realizado nenhum tunning, seleção de variávies, ajuste de missings, o conjunto de validação esta sendo utilizado como conjunto de teste, então todas as comparações de resultados serão realizadas em cima desse conjunto.  "
   ]
  },
  {
   "cell_type": "code",
   "execution_count": 9,
   "metadata": {},
   "outputs": [],
   "source": [
    "import pandas as pd\n",
    "import pickle\n",
    "import sys\n",
    "\n",
    "sys.path.append('../')\n",
    "from src.utils.modeling import get_metrics\n",
    "\n",
    "pd.set_option('display.max_columns', None)"
   ]
  },
  {
   "cell_type": "markdown",
   "metadata": {},
   "source": [
    "## Avaliação de Overfitting\n",
    "Esta avaliação só faz sentido para modelos tabulares"
   ]
  },
  {
   "cell_type": "code",
   "execution_count": 5,
   "metadata": {},
   "outputs": [],
   "source": [
    "df_train_lag = pd.read_parquet('../data/lag/full_train.parquet.gzip')\n",
    "df_valid_lag = pd.read_parquet('../data/lag/full_valid.parquet.gzip')"
   ]
  },
  {
   "cell_type": "code",
   "execution_count": 3,
   "metadata": {},
   "outputs": [],
   "source": [
    "dt = pickle.load(open('../models/models/dt_reg_with_lag.pkl', 'rb'))\n",
    "lgbm = pickle.load(open('../models/models/lgbm_reg_with_lag.pkl', 'rb'))"
   ]
  },
  {
   "cell_type": "code",
   "execution_count": 8,
   "metadata": {},
   "outputs": [
    {
     "data": {
      "text/html": [
       "<div>\n",
       "<style scoped>\n",
       "    .dataframe tbody tr th:only-of-type {\n",
       "        vertical-align: middle;\n",
       "    }\n",
       "\n",
       "    .dataframe tbody tr th {\n",
       "        vertical-align: top;\n",
       "    }\n",
       "\n",
       "    .dataframe thead th {\n",
       "        text-align: right;\n",
       "    }\n",
       "</style>\n",
       "<table border=\"1\" class=\"dataframe\">\n",
       "  <thead>\n",
       "    <tr style=\"text-align: right;\">\n",
       "      <th></th>\n",
       "      <th>model</th>\n",
       "      <th>desc</th>\n",
       "      <th>rmse_train</th>\n",
       "      <th>rmse_valid</th>\n",
       "      <th>diff_rmse</th>\n",
       "      <th>mae_train</th>\n",
       "      <th>mae_valid</th>\n",
       "      <th>diff_mae</th>\n",
       "    </tr>\n",
       "  </thead>\n",
       "  <tbody>\n",
       "    <tr>\n",
       "      <th>0</th>\n",
       "      <td>Default</td>\n",
       "      <td>Default values mean + std</td>\n",
       "      <td>38.24 +- 70.38</td>\n",
       "      <td>40.76 +- 73.29</td>\n",
       "      <td>0.000000</td>\n",
       "      <td>38.24 +- 70.38</td>\n",
       "      <td>40.76 +- 73.29</td>\n",
       "      <td>0.000000</td>\n",
       "    </tr>\n",
       "    <tr>\n",
       "      <th>1</th>\n",
       "      <td>&lt;class 'sklearn.tree._classes.DecisionTreeRegr...</td>\n",
       "      <td>with lag features</td>\n",
       "      <td>53.34853</td>\n",
       "      <td>55.085708</td>\n",
       "      <td>-1.737178</td>\n",
       "      <td>26.104746</td>\n",
       "      <td>27.155147</td>\n",
       "      <td>-1.050402</td>\n",
       "    </tr>\n",
       "    <tr>\n",
       "      <th>2</th>\n",
       "      <td>&lt;class 'lightgbm.sklearn.LGBMRegressor'&gt;</td>\n",
       "      <td>with lag features</td>\n",
       "      <td>53.965445</td>\n",
       "      <td>56.082492</td>\n",
       "      <td>-2.117047</td>\n",
       "      <td>26.14909</td>\n",
       "      <td>27.471913</td>\n",
       "      <td>-1.322823</td>\n",
       "    </tr>\n",
       "  </tbody>\n",
       "</table>\n",
       "</div>"
      ],
      "text/plain": [
       "                                               model  \\\n",
       "0                                            Default   \n",
       "1  <class 'sklearn.tree._classes.DecisionTreeRegr...   \n",
       "2           <class 'lightgbm.sklearn.LGBMRegressor'>   \n",
       "\n",
       "                        desc      rmse_train      rmse_valid  diff_rmse  \\\n",
       "0  Default values mean + std  38.24 +- 70.38  40.76 +- 73.29   0.000000   \n",
       "1          with lag features        53.34853       55.085708  -1.737178   \n",
       "2          with lag features       53.965445       56.082492  -2.117047   \n",
       "\n",
       "        mae_train       mae_valid  diff_mae  \n",
       "0  38.24 +- 70.38  40.76 +- 73.29  0.000000  \n",
       "1       26.104746       27.155147 -1.050402  \n",
       "2        26.14909       27.471913 -1.322823  "
      ]
     },
     "execution_count": 8,
     "metadata": {},
     "output_type": "execute_result"
    }
   ],
   "source": [
    "get_metrics(\n",
    "    [\n",
    "        (dt, dt.feature_names_in_, 'with lag features', df_train_lag, df_valid_lag),\n",
    "        (lgbm, lgbm.feature_names_in_, 'with lag features', df_train_lag, df_valid_lag)\n",
    "    ],\n",
    "    df_train_lag,\n",
    "    df_valid_lag,\n",
    "    'qty_travels'\n",
    ")\n"
   ]
  },
  {
   "cell_type": "markdown",
   "metadata": {},
   "source": [
    "Avaliando overfitting entre os modelos tabulares não encontramos indicios fortes, visto que tanto a métrica RMSE quanto a MAE não tem alterações relevantes entre os conjuntos"
   ]
  },
  {
   "cell_type": "code",
   "execution_count": null,
   "metadata": {},
   "outputs": [],
   "source": [
    "\n",
    "    df_train['pred'] = model.predict(df_train[features])\n",
    "\n",
    "    df_valid['pred'] = model.predict(df_valid[features])\n",
    "\n",
    "    print(get_boxplot_stats(\n",
    "        df_valid[target],\n",
    "        'True   '\n",
    "    ))\n",
    "\n",
    "    print(get_boxplot_stats(\n",
    "        df_valid['pred'],\n",
    "        'Predict'\n",
    "    ))"
   ]
  }
 ],
 "metadata": {
  "kernelspec": {
   "display_name": "venv_ny_taxi",
   "language": "python",
   "name": "python3"
  },
  "language_info": {
   "codemirror_mode": {
    "name": "ipython",
    "version": 3
   },
   "file_extension": ".py",
   "mimetype": "text/x-python",
   "name": "python",
   "nbconvert_exporter": "python",
   "pygments_lexer": "ipython3",
   "version": "3.12.4"
  }
 },
 "nbformat": 4,
 "nbformat_minor": 2
}
